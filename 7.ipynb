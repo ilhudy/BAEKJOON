{
 "cells": [
  {
   "cell_type": "code",
   "execution_count": 10,
   "metadata": {},
   "outputs": [
    {
     "name": "stdout",
     "output_type": "stream",
     "text": [
      "4 4 4 \n",
      "6 6 6 \n",
      "5 6 100 \n"
     ]
    }
   ],
   "source": [
    "# 2738\n",
    "n, m = map(int, input().split())\n",
    "a, b = [], []\n",
    "for i in range(n):\n",
    "    a.append(list(map(int, input().split())))\n",
    "for i in range(n):\n",
    "    b.append(list(map(int, input().split())))\n",
    "for i in range(n):\n",
    "    for j in range(m):\n",
    "        print(a[i][j] + b[i][j], end = \" \")\n",
    "    print()"
   ]
  },
  {
   "cell_type": "code",
   "execution_count": null,
   "metadata": {},
   "outputs": [],
   "source": [
    "# 2566\n",
    "table = [list(map(int, input().split())) for _ in range(9)]\n",
    "\n",
    "max_num = 0\n",
    "max_row, max_col = 0, 0\n",
    "for row in range(9):\n",
    "    for col in range(9):\n",
    "        if max_num <= table[row][col]:\n",
    "            max_row = row + 1\n",
    "            max_col = col + 1\n",
    "            max_num = table[row][col]\n",
    "\n",
    "print(max_num)\n",
    "print(max_row, max_col)"
   ]
  },
  {
   "cell_type": "code",
   "execution_count": 4,
   "metadata": {},
   "outputs": [
    {
     "name": "stdout",
     "output_type": "stream",
     "text": [
      "[[3, 23, 85, 34, 17, 74, 25, 52, 65], [10, 7, 39, 42, 88, 52, 14, 72, 63], [87, 42, 18, 78, 53, 45, 18, 84, 53], [34, 28, 64, 85, 12, 16, 75, 36, 55], [21, 77, 45, 35, 28, 75, 90, 76, 1], [25, 87, 65, 15, 28, 11, 37, 28, 74], [65, 27, 75, 41, 7, 89, 78, 64, 39], [47, 47, 70, 45, 23, 65, 3, 41, 44], [87, 13, 82, 38, 31, 12, 29, 29, 80]]\n"
     ]
    }
   ],
   "source": [
    "import numpy as np\n",
    "ls = [list(map(int, input().split())) for _ in range(9)]\n",
    "a = (np.max(ls))\n",
    "for i in range(9):\n",
    "    for j in range(9):\n",
    "        if ls[i][j] == a:\n",
    "            k, q = i+1,j+1\n",
    "\n",
    "print(k,q)"
   ]
  },
  {
   "cell_type": "code",
   "execution_count": 2,
   "metadata": {},
   "outputs": [
    {
     "name": "stdout",
     "output_type": "stream",
     "text": [
      "1.ipynb  2.ipynb  3.ipynb  4.ipynb  5.ipynb  7.ipynb  A.ipynb  \u001b[1m\u001b[36mf\u001b[m\u001b[m/\n"
     ]
    }
   ],
   "source": [
    "ls"
   ]
  },
  {
   "cell_type": "code",
   "execution_count": 4,
   "metadata": {},
   "outputs": [
    {
     "name": "stdout",
     "output_type": "stream",
     "text": [
      "Aa0aPAf985Bz1EhCz2W3D1gkD6x\n"
     ]
    }
   ],
   "source": [
    "#10798\n",
    "word = []\n",
    "result=\"\"\n",
    "for col in range(5):\n",
    "    a = input().strip()\n",
    "    word.append(a)\n",
    "maxi = max(len(i) for i in word)\n",
    "for i in range(maxi):\n",
    "    for j in range(5):\n",
    "        if i < len(word[j]):\n",
    "            result += word[j][i]\n",
    "print(result)"
   ]
  },
  {
   "cell_type": "code",
   "execution_count": 5,
   "metadata": {},
   "outputs": [
    {
     "name": "stdout",
     "output_type": "stream",
     "text": [
      "260\n"
     ]
    }
   ],
   "source": [
    "# 2563\n",
    "n = int(input())\n",
    "table = [[0]*100 for _ in range(100)]\n",
    "for i in range(n):\n",
    "    x, y = (map(int, input().split()))\n",
    "\n",
    "    for i in range(x, x+10):     # 행\n",
    "        for j in range(y, y+10): # 열(x, y)\n",
    "            table[i][j] = 1\n",
    "result = 0\n",
    "for k in range(100):\n",
    "    result += table[k].count(1)\n",
    "print(result)"
   ]
  },
  {
   "cell_type": "code",
   "execution_count": null,
   "metadata": {},
   "outputs": [],
   "source": []
  }
 ],
 "metadata": {
  "kernelspec": {
   "display_name": "assignment1",
   "language": "python",
   "name": "python3"
  },
  "language_info": {
   "codemirror_mode": {
    "name": "ipython",
    "version": 3
   },
   "file_extension": ".py",
   "mimetype": "text/x-python",
   "name": "python",
   "nbconvert_exporter": "python",
   "pygments_lexer": "ipython3",
   "version": "3.9.19"
  }
 },
 "nbformat": 4,
 "nbformat_minor": 2
}
