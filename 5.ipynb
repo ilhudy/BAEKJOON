{
 "cells": [
  {
   "cell_type": "code",
   "execution_count": 2,
   "metadata": {},
   "outputs": [
    {
     "name": "stdout",
     "output_type": "stream",
     "text": [
      "p\n"
     ]
    }
   ],
   "source": [
    "# 27866\n",
    "a = input()\n",
    "n = int(input())\n",
    "print(a[n-1])"
   ]
  },
  {
   "cell_type": "code",
   "execution_count": 3,
   "metadata": {},
   "outputs": [
    {
     "name": "stdout",
     "output_type": "stream",
     "text": [
      "8\n"
     ]
    }
   ],
   "source": [
    "# 2743\n",
    "a = input()\n",
    "print(len(a))"
   ]
  },
  {
   "cell_type": "code",
   "execution_count": 4,
   "metadata": {},
   "outputs": [
    {
     "name": "stdout",
     "output_type": "stream",
     "text": [
      "ao\n",
      "ao\n",
      "00\n"
     ]
    }
   ],
   "source": [
    "# 9086\n",
    "n = int(input())\n",
    "for i in range(n):\n",
    "    a = input()\n",
    "    print(a[0]+a[-1])"
   ]
  },
  {
   "cell_type": "code",
   "execution_count": 6,
   "metadata": {},
   "outputs": [
    {
     "name": "stdout",
     "output_type": "stream",
     "text": [
      "65\n"
     ]
    }
   ],
   "source": [
    "# 11654\n",
    "a = input()\n",
    "print(ord(a))"
   ]
  },
  {
   "cell_type": "code",
   "execution_count": 11,
   "metadata": {},
   "outputs": [
    {
     "name": "stdout",
     "output_type": "stream",
     "text": [
      "7\n"
     ]
    }
   ],
   "source": [
    "# 11720\n",
    "n = int(input())\n",
    "a = list(map(int, input()))\n",
    "c = 0\n",
    "for i in range(n):\n",
    "    c += a[i]\n",
    "print(c)"
   ]
  },
  {
   "cell_type": "code",
   "execution_count": 16,
   "metadata": {},
   "outputs": [
    {
     "name": "stdout",
     "output_type": "stream",
     "text": [
      "0 1 2 3 4 5 -1 -1 -1 -1 -1 -1 -1 -1 -1 -1 -1 -1 -1 -1 -1 -1 -1 -1 -1 -1 "
     ]
    }
   ],
   "source": [
    "# 10809\n",
    "a = input()\n",
    "for i in range(97,123):\n",
    "    b = chr(i)\n",
    "\n",
    "    if b in a:\n",
    "        print(a.index(b), end=' ')\n",
    "    else:\n",
    "        print(-1, end = ' ')\n"
   ]
  },
  {
   "cell_type": "code",
   "execution_count": 40,
   "metadata": {},
   "outputs": [
    {
     "name": "stdout",
     "output_type": "stream",
     "text": [
      "AAANNNDDD\n",
      ">>>>>DDDDDLLLLLFFFFFSSSSSMMMMM\n"
     ]
    }
   ],
   "source": [
    "# 2675\n",
    "n = int(input())\n",
    "for i in range(n):\n",
    "    a, b = input().split()\n",
    "    for i in range(len(b)):\n",
    "        print(b[i] * int(a), end='')\n",
    "    print(\"\", end=\"\\n\")"
   ]
  },
  {
   "cell_type": "code",
   "execution_count": 42,
   "metadata": {},
   "outputs": [
    {
     "name": "stdout",
     "output_type": "stream",
     "text": [
      "6\n"
     ]
    }
   ],
   "source": [
    "# 1152\n",
    "a = list(input().split())\n",
    "print(len(a))"
   ]
  },
  {
   "cell_type": "code",
   "execution_count": 49,
   "metadata": {},
   "outputs": [
    {
     "name": "stdout",
     "output_type": "stream",
     "text": [
      "437\n"
     ]
    }
   ],
   "source": [
    "# 2908\n",
    "a, b = list(map(str, input().split()))\n",
    "aa, bb = a[::-1], b[::-1]\n",
    "print(max(aa, bb))"
   ]
  },
  {
   "cell_type": "code",
   "execution_count": 53,
   "metadata": {},
   "outputs": [
    {
     "name": "stdout",
     "output_type": "stream",
     "text": [
      "36\n"
     ]
    }
   ],
   "source": [
    "# 5622\n",
    "a = list(input()) #range(65, 91)\n",
    "for i in range(len(a)):\n",
    "    if 65 <= ord(a[i]) <= 67:  # abc\n",
    "        a[i] = 3\n",
    "    elif ord(a[i]) <=70: # def\n",
    "        a[i] =4\n",
    "    elif ord(a[i]) <=73:  # ghi\n",
    "        a[i] = 5\n",
    "    elif ord(a[i]) <=76: # jkl\n",
    "        a[i] = 6\n",
    "    elif ord(a[i]) <=79: #mno\n",
    "        a[i] = 7\n",
    "    elif ord(a[i]) <=83: #pqrs\n",
    "        a[i] = 8\n",
    "    elif ord(a[i]) <=86: # tuv\n",
    "        a[i] = 9\n",
    "    elif ord(a[i]) <=90: # wxyz\n",
    "        a[i] = 10\n",
    "print(sum(a))\n",
    "\n",
    "## another\n",
    "dial = ['ABC','DEF','GHI','JKL','MNO','PQRS','TUV','WXYZ']\n",
    "alphabet = input(\"\")\n",
    "N = 0\n",
    "for _ in range(len(alphabet)):\n",
    "    for s in dial:\n",
    "        if alphabet[_] in s:\n",
    "            N += dial.index(s) + 3\n",
    "        else : continue\n",
    "print(N)\n",
    "\n",
    "## another\n",
    "import sys\n",
    "dict = {3:'ABC', 4:'DEF', 5:'GHI', 6:'JKL', 7:'MNO', 8:'PQRS', 9:'TUV', 10:'WXYZ'}\n",
    "s = sys.stdin.readline().strip()\n",
    "cnt = 0\n",
    "for i in range(len(s)):\n",
    "    for j in dict:\n",
    "        if s[i] in dict[j]:\n",
    "            cnt += j\n",
    "print(cnt)"
   ]
  },
  {
   "cell_type": "code",
   "execution_count": 56,
   "metadata": {},
   "outputs": [
    {
     "name": "stdout",
     "output_type": "stream",
     "text": [
      "\n",
      "\n",
      "\n",
      "\n"
     ]
    }
   ],
   "source": [
    "# 11718\n",
    "while True:\n",
    "    print(input())\n",
    "    if a == \"\":\n",
    "        break\n",
    "    \n",
    "# another\n",
    "while True:\n",
    "    try:\n",
    "        print(input())\n",
    "    except EOFError:\n",
    "            break\n"
   ]
  },
  {
   "cell_type": "code",
   "execution_count": null,
   "metadata": {},
   "outputs": [],
   "source": []
  }
 ],
 "metadata": {
  "kernelspec": {
   "display_name": "assignment1",
   "language": "python",
   "name": "python3"
  },
  "language_info": {
   "codemirror_mode": {
    "name": "ipython",
    "version": 3
   },
   "file_extension": ".py",
   "mimetype": "text/x-python",
   "name": "python",
   "nbconvert_exporter": "python",
   "pygments_lexer": "ipython3",
   "version": "3.9.19"
  }
 },
 "nbformat": 4,
 "nbformat_minor": 2
}
