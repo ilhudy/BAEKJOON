{
 "cells": [
  {
   "cell_type": "code",
   "execution_count": 16,
   "metadata": {},
   "outputs": [
    {
     "name": "stdout",
     "output_type": "stream",
     "text": [
      "4\n"
     ]
    }
   ],
   "source": [
    "# 두 정수 A, B입력받은 다음, A+B를 출력하는 프로그램 작성\n",
    "print(sum(map(int,input().split())))\n",
    "\n",
    "# 사칙연산\n",
    "a,b=map(int,input().split())\n",
    "print(a+b)\n",
    "print(a-b)\n",
    "print(a*b)\n",
    "print(a//b)\n",
    "print(a%b)"
   ]
  },
  {
   "cell_type": "code",
   "execution_count": 20,
   "metadata": {},
   "outputs": [
    {
     "name": "stdout",
     "output_type": "stream",
     "text": [
      "1\n"
     ]
    }
   ],
   "source": [
    "'''조규현의 좌표(x_1, y_1)와 백승환의 좌표(x_2, y_2)가 주어지고,\n",
    "조규현이 계산한 류재명과의 거리 r_1과 백승환이 계산한 류재명과의 거리 r_2가 주어졌을 때,\n",
    "류재명이 있을 수 있는 좌표의 수를 출력하는 프로그램을 작성하시오.'''\n",
    "\n",
    "import math\n",
    "def count(x1, y1, r1, x2, y2, r2):\n",
    "    d = math.sqrt((x1-x2)**2 + (y1-y2)**2)\n",
    "    if d == 0:\n",
    "        if r1 == r2:\n",
    "            return -1\n",
    "        else:\n",
    "            return 0\n",
    "    if d == r1+r2 or d == abs(r1-r2):\n",
    "        return 1\n",
    "    if abs(r1-r2) < d < (r1+r2):\n",
    "        return 2\n",
    "    \n",
    "    return 0\n",
    "a = int(input())\n",
    "b = []\n",
    "for i in range(a):\n",
    "    x1, y1, r1, x2, y2, r2 = map(int, input().split())\n",
    "    result= count(x1, y1, r1, x2, y2, r2)\n",
    "    b.append(result)\n",
    "for n in b:\n",
    "    print(n)\n",
    "\n"
   ]
  },
  {
   "cell_type": "code",
   "execution_count": 22,
   "metadata": {},
   "outputs": [
    {
     "name": "stdout",
     "output_type": "stream",
     "text": [
      "\\    /\\\n",
      " )  ( ')\n",
      "(  /  )\n",
      " \\(__)|\n"
     ]
    }
   ],
   "source": [
    "# 고양이 출력\n",
    "# \\    /\\\n",
    "#  )  ( ')\n",
    "# (  /  )\n",
    "#  \\(__)|\n",
    "print(r\"\"\"\\    /\\\n",
    " )  ( ')\n",
    "(  /  )\n",
    " \\(__)|\"\"\")"
   ]
  },
  {
   "cell_type": "code",
   "execution_count": 30,
   "metadata": {},
   "outputs": [
    {
     "name": "stdout",
     "output_type": "stream",
     "text": [
      "ab??!\n"
     ]
    }
   ],
   "source": [
    "# joonas ??!\n",
    "\n",
    "id = input()\n",
    "def check(id):\n",
    "    if id.isalpha():\n",
    "        if len(id) <= 50:\n",
    "            if id.islower():\n",
    "                return True\n",
    "            else:\n",
    "                return False\n",
    "        else:\n",
    "            return False\n",
    "    else:\n",
    "        return False\n",
    "a = check(id)\n",
    "if a:\n",
    "    print(id+\"??!\")"
   ]
  },
  {
   "cell_type": "code",
   "execution_count": 32,
   "metadata": {},
   "outputs": [
    {
     "name": "stdout",
     "output_type": "stream",
     "text": [
      "0\n"
     ]
    }
   ],
   "source": [
    "print(int(input())-543)"
   ]
  },
  {
   "cell_type": "code",
   "execution_count": 33,
   "metadata": {},
   "outputs": [
    {
     "name": "stdout",
     "output_type": "stream",
     "text": [
      "1\n",
      "1\n",
      "0\n",
      "0\n"
     ]
    }
   ],
   "source": [
    "A, B, C = map(int, input().split())\n",
    "print((A+B)%C)\n",
    "print(((A%C) + (B%C))%C)\n",
    "print((A*B)%C)\n",
    "print(((A%C) * (B%C))%C)"
   ]
  },
  {
   "cell_type": "code",
   "execution_count": 37,
   "metadata": {},
   "outputs": [
    {
     "name": "stdout",
     "output_type": "stream",
     "text": [
      "2360\n",
      "3776\n",
      "1416\n",
      "181720\n"
     ]
    }
   ],
   "source": [
    "A = int(input())\n",
    "a, b, c = map(int,input())\n",
    "d = A*c\n",
    "e = A*b\n",
    "f = A*a\n",
    "print(d)\n",
    "print(e)\n",
    "print(f)\n",
    "print(d+10*e+100*f)"
   ]
  },
  {
   "cell_type": "code",
   "execution_count": 38,
   "metadata": {},
   "outputs": [
    {
     "name": "stdout",
     "output_type": "stream",
     "text": [
      "7931\n"
     ]
    }
   ],
   "source": [
    "a, b, c = map(int, input().split())\n",
    "print(a+b+c)"
   ]
  },
  {
   "cell_type": "code",
   "execution_count": 39,
   "metadata": {},
   "outputs": [
    {
     "name": "stdout",
     "output_type": "stream",
     "text": [
      "|\\_/|\n",
      "|q p|   /}\n",
      "( 0 )\"\"\"\\\n",
      "|\"^\"`    |\n",
      "||_/=\\\\__|\n"
     ]
    }
   ],
   "source": [
    "# 개\n",
    "'''\n",
    "|\\_/|\n",
    "|q p|   /}\n",
    "( 0 )\"\"\"\\\n",
    "|\"^\"`    |\n",
    "||_/=\\\\__|\n",
    "'''\n",
    "print(r'''|\\_/|\n",
    "|q p|   /}\n",
    "( 0 )\"\"\"\\\n",
    "|\"^\"`    |\n",
    "||_/=\\\\__|''')"
   ]
  },
  {
   "cell_type": "code",
   "execution_count": null,
   "metadata": {},
   "outputs": [],
   "source": []
  }
 ],
 "metadata": {
  "kernelspec": {
   "display_name": "assignment1",
   "language": "python",
   "name": "python3"
  },
  "language_info": {
   "codemirror_mode": {
    "name": "ipython",
    "version": 3
   },
   "file_extension": ".py",
   "mimetype": "text/x-python",
   "name": "python",
   "nbconvert_exporter": "python",
   "pygments_lexer": "ipython3",
   "version": "3.9.19"
  }
 },
 "nbformat": 4,
 "nbformat_minor": 2
}
