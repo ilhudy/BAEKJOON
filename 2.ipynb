{
 "cells": [
  {
   "cell_type": "code",
   "execution_count": 1,
   "metadata": {},
   "outputs": [
    {
     "name": "stdout",
     "output_type": "stream",
     "text": [
      "<\n"
     ]
    }
   ],
   "source": [
    "a, b = map(int, input().split())\n",
    "if a > b:\n",
    "    print(\">\")\n",
    "elif a < b:\n",
    "    print(\"<\")\n",
    "else:\n",
    "    print(\"==\")"
   ]
  },
  {
   "cell_type": "code",
   "execution_count": 3,
   "metadata": {},
   "outputs": [
    {
     "name": "stdout",
     "output_type": "stream",
     "text": [
      "A\n"
     ]
    }
   ],
   "source": [
    "a = int(input())\n",
    "if 90 <= a <= 100:\n",
    "    print(\"A\")\n",
    "elif 80 <= a:\n",
    "    print(\"B\")\n",
    "elif 70 <= a:\n",
    "    print(\"C\")\n",
    "elif 60 <= a:\n",
    "    print(\"D\")\n",
    "else:\n",
    "    print(\"F\")"
   ]
  },
  {
   "cell_type": "code",
   "execution_count": 11,
   "metadata": {},
   "outputs": [
    {
     "name": "stdout",
     "output_type": "stream",
     "text": [
      "1\n"
     ]
    }
   ],
   "source": [
    "a = int(input())\n",
    "if a % 400 == 0:\n",
    "    print(1)\n",
    "elif a % 4 == 0 and a % 100 != 0:\n",
    "    print(1)\n",
    "else:\n",
    "    print(0)"
   ]
  },
  {
   "cell_type": "code",
   "execution_count": 13,
   "metadata": {},
   "outputs": [
    {
     "name": "stdout",
     "output_type": "stream",
     "text": [
      "4\n"
     ]
    }
   ],
   "source": [
    "x = int(input())\n",
    "y = int(input())\n",
    "\n",
    "if x>0 and y>0:\n",
    "    print(1)\n",
    "elif x<0 and y>0:\n",
    "    print(2)\n",
    "elif x<0 and y<0:\n",
    "    print(3)\n",
    "else:\n",
    "    print(4)"
   ]
  },
  {
   "cell_type": "code",
   "execution_count": 17,
   "metadata": {},
   "outputs": [
    {
     "name": "stdout",
     "output_type": "stream",
     "text": [
      "22 55\n"
     ]
    }
   ],
   "source": [
    "h, m = map(int,input().split())\n",
    "if 45 <= m <= 59:\n",
    "    print(h, m-45)\n",
    "elif h != 0:\n",
    "    print(h-1, m+15)\n",
    "elif h == 0:\n",
    "    print(h + 23, m + 15)\n",
    "\n"
   ]
  },
  {
   "cell_type": "code",
   "execution_count": 22,
   "metadata": {},
   "outputs": [
    {
     "name": "stdout",
     "output_type": "stream",
     "text": [
      "0 13\n"
     ]
    }
   ],
   "source": [
    "h, m = map(int,input().split())\n",
    "n = int(input())\n",
    "t = h* 60 + m + n\n",
    "h = t // 60\n",
    "m = t % 60\n",
    "\n",
    "if h >= 24:\n",
    "    h = h-24\n",
    "print(h, m)"
   ]
  },
  {
   "cell_type": "code",
   "execution_count": 27,
   "metadata": {},
   "outputs": [
    {
     "name": "stdout",
     "output_type": "stream",
     "text": [
      "600\n"
     ]
    }
   ],
   "source": [
    "a, b, c = map(int, input().split())\n",
    "if a==b==c:\n",
    "    print(10000+a*1000)\n",
    "elif a==b or a==c or b==c:\n",
    "    if a == b:\n",
    "        print(1000+a*100)\n",
    "    elif a == c:\n",
    "        print(1000+a*100)\n",
    "    else:\n",
    "        print(1000+b*100)\n",
    "else:\n",
    "    print(max(a,b,c)*100)"
   ]
  },
  {
   "cell_type": "code",
   "execution_count": null,
   "metadata": {},
   "outputs": [],
   "source": []
  }
 ],
 "metadata": {
  "kernelspec": {
   "display_name": "assignment1",
   "language": "python",
   "name": "python3"
  },
  "language_info": {
   "codemirror_mode": {
    "name": "ipython",
    "version": 3
   },
   "file_extension": ".py",
   "mimetype": "text/x-python",
   "name": "python",
   "nbconvert_exporter": "python",
   "pygments_lexer": "ipython3",
   "version": "3.9.19"
  }
 },
 "nbformat": 4,
 "nbformat_minor": 2
}
