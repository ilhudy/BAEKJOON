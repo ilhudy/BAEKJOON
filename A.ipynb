{
 "cells": [
  {
   "cell_type": "code",
   "execution_count": 1,
   "metadata": {},
   "outputs": [
    {
     "name": "stdout",
     "output_type": "stream",
     "text": [
      "2\n"
     ]
    }
   ],
   "source": [
    "# 1978\n",
    "num = int(input())\n",
    "n = list(map(int, input().split()))\n",
    "cnt = 0\n",
    "\n",
    "for i in range(num):\n",
    "    tf = True\n",
    "    if n[i] == 2:\n",
    "        cnt += 1\n",
    "    elif n[i] != 1:\n",
    "        for j in range(2, n[i]):\n",
    "            if n[i] % j == 0:\n",
    "                tf = False\n",
    "        if tf == True:\n",
    "            cnt += 1\n",
    "print(cnt)"
   ]
  },
  {
   "cell_type": "code",
   "execution_count": null,
   "metadata": {},
   "outputs": [],
   "source": [
    "for i in range(2, 2):\n",
    "    print(i)"
   ]
  },
  {
   "cell_type": "code",
   "execution_count": null,
   "metadata": {},
   "outputs": [
    {
     "name": "stdout",
     "output_type": "stream",
     "text": [
      "3\n",
      "5\n",
      "7\n",
      "11\n",
      "13\n"
     ]
    }
   ],
   "source": [
    "# 1929\n",
    "m, n = map(int,input().split())\n",
    "for i in range(m, n+1):\n",
    "    tf = True\n",
    "    if m != 1:\n",
    "        for j in range(2, i):\n",
    "            if i % j == 0:\n",
    "                tf = False\n",
    "        if tf == True:\n",
    "            print(i)\n",
    "    elif i == 2:\n",
    "        print(i)"
   ]
  },
  {
   "cell_type": "code",
   "execution_count": null,
   "metadata": {},
   "outputs": [],
   "source": [
    "# 1929\n",
    "m,n=map(int,input().split())\n",
    "\n",
    "for i in range(m,n+1):\n",
    "    if i==1:#1은 소수가 아니므로 제외\n",
    "        continue\n",
    "    for j in range(2,int(i**0.5)+1):\n",
    "        if i%j==0: #약수가 존재하므로 소수가 아님\n",
    "            break   #더이상 검사할 필요가 없으므로 멈춤\n",
    "    else:\n",
    "        print(i)"
   ]
  },
  {
   "cell_type": "code",
   "execution_count": null,
   "metadata": {},
   "outputs": [
    {
     "name": "stdout",
     "output_type": "stream",
     "text": [
      "6\n",
      "72\n"
     ]
    }
   ],
   "source": [
    "# 2609\n",
    "m,n = map(int, input().split())\n",
    "for i in range(1, min(m,n)+1):\n",
    "    if m % i == 0 and n % i == 0:\n",
    "        a = i\n",
    "print(a)\n",
    "\n",
    "for i in range((m*n)+1,max(m,n),-1):\n",
    "    if i % m == 0 and i % n == 0:\n",
    "        b = i\n",
    "print(b)\n",
    "\n",
    "def gcd(a, b):\n",
    "    while b > 0:\n",
    "        a, b = b, a%b\n",
    "    return a\n",
    "def lcm(a,b):\n",
    "    return a*b // gcd(a,b)"
   ]
  },
  {
   "cell_type": "code",
   "execution_count": null,
   "metadata": {},
   "outputs": [
    {
     "name": "stdout",
     "output_type": "stream",
     "text": [
      "6\n",
      "72\n"
     ]
    }
   ],
   "source": [
    "# 2609\n",
    "a,b = map(int, input().split())\n",
    "def gcd(a, b):\n",
    "    while b > 0:\n",
    "        a, b = b, a % b\n",
    "    return a\n",
    "def lcm(a,b):\n",
    "    return a*b // gcd(a,b)\n",
    "print(gcd(a,b))\n",
    "print(lcm(a,b))"
   ]
  },
  {
   "cell_type": "code",
   "execution_count": 1,
   "metadata": {},
   "outputs": [
    {
     "name": "stdout",
     "output_type": "stream",
     "text": [
      "         ,r'\"7\n",
      "r`-_   ,'  ,/\n",
      " \\. \". L_r'\n",
      "   `~\\/\n",
      "      |\n",
      "      |\n"
     ]
    }
   ],
   "source": [
    "# 25083\n",
    "print(r'''         ,r'\"7\n",
    "r`-_   ,'  ,/\n",
    " \\. \". L_r'\n",
    "   `~\\/\n",
    "      |\n",
    "      |''')"
   ]
  },
  {
   "cell_type": "code",
   "execution_count": 2,
   "metadata": {},
   "outputs": [
    {
     "name": "stdout",
     "output_type": "stream",
     "text": [
      "1 0 0 0 0 1\n"
     ]
    }
   ],
   "source": [
    "# 3003\n",
    "a, b, c, d, e, f = map(int, input().split())\n",
    "a = 1-a\n",
    "b = 1-b\n",
    "c = 2-c\n",
    "d = 2-d\n",
    "e = 2-e\n",
    "f = 8-f\n",
    "print(a,b,c,d,e,f)"
   ]
  },
  {
   "cell_type": "code",
   "execution_count": 2,
   "metadata": {},
   "outputs": [
    {
     "name": "stdout",
     "output_type": "stream",
     "text": [
      "1\n"
     ]
    }
   ],
   "source": [
    "# 2475\n",
    "n = list(map(int, input().split()))\n",
    "for i in range(len(n)):\n",
    "    n[i] = n[i]**2\n",
    "print(sum(n)%10)"
   ]
  },
  {
   "cell_type": "code",
   "execution_count": 3,
   "metadata": {},
   "outputs": [
    {
     "name": "stdout",
     "output_type": "stream",
     "text": [
      "1\n",
      "2\n",
      "3\n",
      "4\n",
      "5\n"
     ]
    }
   ],
   "source": [
    "# 2741\n",
    "n = int(input())\n",
    "for i in range(n):\n",
    "    print(i+1, end='\\n')"
   ]
  },
  {
   "cell_type": "code",
   "execution_count": 10,
   "metadata": {},
   "outputs": [
    {
     "name": "stdout",
     "output_type": "stream",
     "text": [
      "2\n",
      "29\n"
     ]
    }
   ],
   "source": [
    "# 31403\n",
    "A = input()\n",
    "B = input()\n",
    "C = input()\n",
    "print(int(A)+int(B)-int(C))\n",
    "print(int(A+B)-int(C))"
   ]
  },
  {
   "cell_type": "code",
   "execution_count": 1,
   "metadata": {},
   "outputs": [
    {
     "name": "stdout",
     "output_type": "stream",
     "text": [
      "  *\n",
      " ***\n",
      "*****\n",
      " ***\n",
      "  *\n"
     ]
    }
   ],
   "source": [
    "# 2444\n",
    "n = int(input())\n",
    "for i in range(1, n):\n",
    "    print(' '*(n-i) + '*'*(2*i-1))\n",
    "for i in range(n, 0, -1):\n",
    "    print(' '*(n-i) + '*'*(2*i-1))"
   ]
  },
  {
   "cell_type": "code",
   "execution_count": 3,
   "metadata": {},
   "outputs": [
    {
     "name": "stdout",
     "output_type": "stream",
     "text": [
      "    *    \n",
      "   ***   \n",
      "  *****  \n",
      " ******* \n",
      "*********\n",
      " ******* \n",
      "  *****  \n",
      "   ***   \n",
      "    *    \n"
     ]
    }
   ],
   "source": [
    "# 2444\n",
    "n=int(input())\n",
    "li=[]\n",
    "for i in range(1,n+1): \n",
    "    final=i*2-1\n",
    "    li.append(final)\n",
    "    max_i=n*2-1\n",
    "    print('{:^{width}}'.format(final*'*', width=max_i))\n",
    "for j in li[:-1][::-1]:\n",
    "    max_j=n*2-1\n",
    "    print('{:^{width}}'.format(j*'*', width=max_j))"
   ]
  },
  {
   "cell_type": "code",
   "execution_count": 3,
   "metadata": {},
   "outputs": [
    {
     "name": "stdout",
     "output_type": "stream",
     "text": [
      "0\n"
     ]
    }
   ],
   "source": [
    "# 10988\n",
    "a =  list(input())\n",
    "if a == a[::-1]:\n",
    "    print(1)\n",
    "else:\n",
    "    print(0)\n",
    "\n",
    "## shot\n",
    "print(1 if a==a[::-1] else 0)"
   ]
  },
  {
   "cell_type": "code",
   "execution_count": 20,
   "metadata": {},
   "outputs": [
    {
     "name": "stdout",
     "output_type": "stream",
     "text": [
      "H\n"
     ]
    }
   ],
   "source": [
    "# 1157\n",
    "a = input().upper()\n",
    "b = list(set(a))\n",
    "k =[]\n",
    "for i in b:\n",
    "    n = a.count(i)\n",
    "    k.append(n)\n",
    "if k.count(max(k)) >= 2:\n",
    "    print(\"?\")\n",
    "else:\n",
    "    print(b[(k.index(max(k)))])"
   ]
  },
  {
   "cell_type": "code",
   "execution_count": 41,
   "metadata": {},
   "outputs": [
    {
     "name": "stdout",
     "output_type": "stream",
     "text": [
      "3\n"
     ]
    }
   ],
   "source": [
    "# 2941\n",
    "a = input()\n",
    "q = [\"c=\", \"c-\", \"dz=\", \"d-\", \"lj\", \"nj\", \"s=\", \"z=\"]\n",
    "for i in q:\n",
    "    a = a.replace(i, \".\")\n",
    "print(len(a))"
   ]
  },
  {
   "cell_type": "code",
   "execution_count": 68,
   "metadata": {},
   "outputs": [
    {
     "name": "stdout",
     "output_type": "stream",
     "text": [
      "3\n"
     ]
    }
   ],
   "source": [
    "# 1316\n",
    "n = int(input())\n",
    "cnt = n\n",
    "for i in range(n):\n",
    "    a = input()\n",
    "    for i in range(len(a)-1):\n",
    "        if a[i] == a[i+1]:\n",
    "            pass\n",
    "        elif a[i] in a[i+1:]:\n",
    "            cnt -= 1\n",
    "            break\n",
    "print(cnt)"
   ]
  },
  {
   "cell_type": "code",
   "execution_count": null,
   "metadata": {},
   "outputs": [],
   "source": [
    "# 25206\n",
    "num = []\n",
    "alpha = [\"A+\", \"A0\", \"B+\", \"B0\", \"C+\", \"C0\", \"D+\", \"D0\", \"F\"]\n",
    "point = [4.5, 4.0, 3.5, 3.0, 2.5, 2.0, 1.5, 1.0, 0.0]\n",
    "for i in range(20):\n",
    "    a = list(map(input().split()))"
   ]
  },
  {
   "cell_type": "code",
   "execution_count": 69,
   "metadata": {},
   "outputs": [
    {
     "name": "stdout",
     "output_type": "stream",
     "text": [
      "3.284483\n"
     ]
    }
   ],
   "source": [
    "rating = ['A+', 'A0', 'B+', 'B0', 'C+', 'C0', 'D+', 'D0', 'F']\n",
    "grade = [4.5, 4.0, 3.5, 3.0, 2.5, 2.0, 1.5, 1.0, 0]\n",
    "\n",
    "total = 0\t# 학점 총합을 담을 변수\n",
    "result = 0\t# (학점 * 과목평점) 총합을 담을 변수\n",
    "for _ in range(20) :\n",
    "    s, p, g = input().split()\n",
    "    p = float(p)\n",
    "    if g != 'P' :\t# 등급이 P인 과목은 계산 안함\n",
    "        total += p\n",
    "        result += p * grade[rating.index(g)]\n",
    "\n",
    "print('%.6f' % (result / total))"
   ]
  },
  {
   "cell_type": "markdown",
   "metadata": {},
   "source": [
    "# 덜 풀"
   ]
  },
  {
   "cell_type": "code",
   "execution_count": null,
   "metadata": {},
   "outputs": [],
   "source": [
    "# 1010\n",
    "t = int(input())\n",
    "for i in range(t):\n",
    "    w, s = map(int, input().split())\n"
   ]
  }
 ],
 "metadata": {
  "kernelspec": {
   "display_name": "assignment1",
   "language": "python",
   "name": "python3"
  },
  "language_info": {
   "codemirror_mode": {
    "name": "ipython",
    "version": 3
   },
   "file_extension": ".py",
   "mimetype": "text/x-python",
   "name": "python",
   "nbconvert_exporter": "python",
   "pygments_lexer": "ipython3",
   "version": "3.9.19"
  }
 },
 "nbformat": 4,
 "nbformat_minor": 2
}
