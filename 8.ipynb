{
 "cells": [
  {
   "cell_type": "code",
   "execution_count": null,
   "metadata": {},
   "outputs": [],
   "source": [
    "# 2745\n",
    "ls = \"0123456789ABCDEFGHIJKLMNOPQRSTUVWXYZ\"\n",
    "n, b = input().split()\n",
    "a = 0\n",
    "for i, num in enumerate(n[::-1]):\n",
    "    a += int(b) ** i * ls.index(num)\n",
    "print(a)"
   ]
  },
  {
   "cell_type": "code",
   "execution_count": 33,
   "metadata": {},
   "outputs": [
    {
     "name": "stdout",
     "output_type": "stream",
     "text": [
      "1010"
     ]
    }
   ],
   "source": [
    "# 11005\n",
    "ls = \"0123456789ABCDEFGHIJKLMNOPQRSTUVWXYZ\"\n",
    "n, b = map(int,input().split())\n",
    "a = []\n",
    "if n == 0:\n",
    "    print(0)\n",
    "else:\n",
    "    while n > 0:\n",
    "        k = n % b\n",
    "        a.append(k)\n",
    "        n = n // b\n",
    "    a = a[::-1]\n",
    "    for i in range(len(a)):\n",
    "        print(ls[a[i]], end=\"\")"
   ]
  },
  {
   "cell_type": "code",
   "execution_count": 36,
   "metadata": {},
   "outputs": [
    {
     "name": "stdout",
     "output_type": "stream",
     "text": [
      "4 2 0 4\n",
      "1 0 0 0\n",
      "7 1 1 4\n"
     ]
    }
   ],
   "source": [
    "# 2720\n",
    "num = int(input())\n",
    "q, qn = 25, 0\n",
    "d, dn = 10, 0\n",
    "n, nn = 5, 0\n",
    "p, pn = 1, 0\n",
    "for i in range(num):\n",
    "    char = int(input())\n",
    "    qn = char//q\n",
    "    char = char % q\n",
    "    dn = char//d\n",
    "    char = char % d\n",
    "    nn = char//n\n",
    "    char = char % n\n",
    "    pn = char//p\n",
    "    char = char % p\n",
    "    print(qn, dn, nn, pn)"
   ]
  },
  {
   "cell_type": "code",
   "execution_count": null,
   "metadata": {},
   "outputs": [],
   "source": [
    "# 2720 another\n",
    "T = int(input())\n",
    "\n",
    "for _ in range(T):\n",
    "  cost = int(input())\n",
    "  Q = cost // 25\n",
    "  D = cost % 25 // 10\n",
    "  N = cost % 25 % 10 // 5\n",
    "  P = cost % 25 % 10 % 5 // 1\n",
    "  print(Q, D, N, P)"
   ]
  },
  {
   "cell_type": "code",
   "execution_count": 45,
   "metadata": {},
   "outputs": [
    {
     "name": "stdout",
     "output_type": "stream",
     "text": [
      "1089\n"
     ]
    }
   ],
   "source": [
    "# 2903\n",
    "n = int(input())\n",
    "m = 3\n",
    "for i in range(n):\n",
    "    if i == 0:\n",
    "        pass\n",
    "    else:\n",
    "        m += 2 ** i\n",
    "print(m**2)"
   ]
  },
  {
   "cell_type": "code",
   "execution_count": 77,
   "metadata": {},
   "outputs": [
    {
     "name": "stdout",
     "output_type": "stream",
     "text": [
      "3\n"
     ]
    }
   ],
   "source": [
    "# 2292\n",
    "# 벌집 모양\n",
    "# 1    :1개:n+1 ~ (n+1)+0\n",
    "# 2~7  :2개:n+1 ~ (n+1)+5\n",
    "# 8~19 :3개:n+1 ~ (n+1)+11\n",
    "# 20~37:4개:n+1 ~ (n+1)+17\n",
    "# 38~61:5개:n+1 ~ (n+1)+23\n",
    "# 1,6,12,18,24 ... 6배수!\n",
    "# i + 1개로 하기.\n",
    "num = int(input())\n",
    "n = 1\n",
    "n_i = 2\n",
    "if num == 1:\n",
    "    k = 1\n",
    "else:\n",
    "    for i in range(1, num):\n",
    "        n_i = n_i + (i-1) * 6\n",
    "        n = n + i * 6\n",
    "        if n_i <= num <= n:\n",
    "            k = i + 1\n",
    "            break\n",
    "print(k)"
   ]
  },
  {
   "cell_type": "code",
   "execution_count": 78,
   "metadata": {},
   "outputs": [
    {
     "name": "stdout",
     "output_type": "stream",
     "text": [
      "2\n"
     ]
    }
   ],
   "source": [
    "# another\n",
    "N = int(input())\n",
    "count = 1\n",
    "A = 1 \n",
    "\n",
    "while N > A:\n",
    "    A += count * 6\n",
    "    count += 1\n",
    "\n",
    "print(count)"
   ]
  },
  {
   "cell_type": "code",
   "execution_count": null,
   "metadata": {},
   "outputs": [],
   "source": [
    "# 1193\n",
    "# 1 : 1/1\n",
    "# 2 : 1/2\n",
    "# 3 : 2/1\n",
    "# 4 : 3/1\n",
    "# 5 : 2/2\n",
    "# 6 : 1/"
   ]
  },
  {
   "cell_type": "code",
   "execution_count": 2,
   "metadata": {},
   "outputs": [
    {
     "name": "stdout",
     "output_type": "stream",
     "text": [
      "3/2\n"
     ]
    }
   ],
   "source": [
    "# 1193\n",
    "num = int(input())\n",
    "line = 1\n",
    "\n",
    "while num > line:\n",
    "    num -= line\n",
    "    line += 1\n",
    "    \n",
    "# 짝수일경우\n",
    "if line % 2 == 0:\n",
    "    a = num\n",
    "    b = line - num + 1\n",
    "# 홀수일경우\n",
    "elif line % 2 == 1:\n",
    "    a = line - num + 1\n",
    "    b = num\n",
    "\n",
    "print(f'{a}/{b}')"
   ]
  },
  {
   "cell_type": "code",
   "execution_count": null,
   "metadata": {},
   "outputs": [],
   "source": [
    "# 1193\n",
    "X=int(input())\n",
    "\n",
    "line=1\n",
    "while X>line:\n",
    "    X-=line\n",
    "    line+=1\n",
    "    \n",
    "if line%2==0:\n",
    "    a=X\n",
    "    b=line-X+1\n",
    "else:\n",
    "    a=line-X+1\n",
    "    b=X\n",
    "    \n",
    "print(a, '/', b, sep='')"
   ]
  },
  {
   "cell_type": "code",
   "execution_count": 12,
   "metadata": {},
   "outputs": [
    {
     "name": "stdout",
     "output_type": "stream",
     "text": [
      "99999901\n"
     ]
    }
   ],
   "source": [
    "# 2869\n",
    "a, b, v = map(int, input().split())\n",
    "h = 0\n",
    "day = 0\n",
    "while True:\n",
    "    day += 1\n",
    "    h += a\n",
    "    if h == v or h > v:\n",
    "        break\n",
    "    else:\n",
    "        h -= b\n",
    "print(day)\n"
   ]
  },
  {
   "cell_type": "code",
   "execution_count": null,
   "metadata": {},
   "outputs": [],
   "source": [
    "a, b, v = map(int, input().split())\n",
    "\n",
    "if (v-b) % (a-b) == 0:\n",
    "    print((v-b)//(a-b))\n",
    "else:\n",
    "    print(((v-b)//(a-b)+1))"
   ]
  },
  {
   "cell_type": "code",
   "execution_count": null,
   "metadata": {},
   "outputs": [],
   "source": [
    "import math\n",
    "a, b, v = map(int, input().split())\n",
    "day = (v-b) / (a-b)\n",
    "print(math.ceil(day))"
   ]
  }
 ],
 "metadata": {
  "kernelspec": {
   "display_name": "assignment1",
   "language": "python",
   "name": "python3"
  },
  "language_info": {
   "codemirror_mode": {
    "name": "ipython",
    "version": 3
   },
   "file_extension": ".py",
   "mimetype": "text/x-python",
   "name": "python",
   "nbconvert_exporter": "python",
   "pygments_lexer": "ipython3",
   "version": "3.9.19"
  }
 },
 "nbformat": 4,
 "nbformat_minor": 2
}
