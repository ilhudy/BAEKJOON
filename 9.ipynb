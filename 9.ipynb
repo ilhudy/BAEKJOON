{
 "cells": [
  {
   "cell_type": "code",
   "execution_count": 4,
   "metadata": {},
   "outputs": [
    {
     "name": "stdout",
     "output_type": "stream",
     "text": [
      "factor\n",
      "multiple\n",
      "neither\n"
     ]
    }
   ],
   "source": [
    "# 5086\n",
    "while True:\n",
    "    a, b = map(int, input().split())\n",
    "    if a < b:\n",
    "        if b % a == 0:\n",
    "            print(\"factor\")\n",
    "        else:\n",
    "            print(\"neither\")\n",
    "    elif a > b:\n",
    "        if a % b == 0:\n",
    "            print(\"multiple\")\n",
    "        else:\n",
    "            print(\"neither\")\n",
    "    elif a==b==0:\n",
    "        break"
   ]
  },
  {
   "cell_type": "code",
   "execution_count": 17,
   "metadata": {},
   "outputs": [
    {
     "name": "stdout",
     "output_type": "stream",
     "text": [
      "25\n"
     ]
    }
   ],
   "source": [
    "# 2501\n",
    "n, k = map(int, input().split())\n",
    "kl = []\n",
    "for i in range(1, n+1):\n",
    "    if n % (i) == 0:\n",
    "        kl.append(i)\n",
    "if len(kl)<k:\n",
    "    print(0)\n",
    "else:\n",
    "    print(kl[k-1])\n"
   ]
  },
  {
   "cell_type": "code",
   "execution_count": 34,
   "metadata": {},
   "outputs": [
    {
     "name": "stdout",
     "output_type": "stream",
     "text": [
      "6 = 1 + 2 + 3\n",
      "12 is NOT perfect.\n"
     ]
    }
   ],
   "source": [
    "# 9506\n",
    "while True:\n",
    "    k = []\n",
    "    n = int(input())\n",
    "    for i in range(1, n):\n",
    "        if n % i == 0:\n",
    "            k.append(i)\n",
    "    if sum(k) == n:\n",
    "        print(n, \"=\", end=' ')\n",
    "        print(\" + \".join(map(str,k)))\n",
    "    elif n != -1:\n",
    "        print(n, \"is NOT perfect.\")\n",
    "    else:\n",
    "        break"
   ]
  },
  {
   "cell_type": "code",
   "execution_count": 58,
   "metadata": {},
   "outputs": [
    {
     "name": "stdout",
     "output_type": "stream",
     "text": [
      "620\n",
      "61\n"
     ]
    }
   ],
   "source": [
    "# 2581\n",
    "m = int(input())\n",
    "n = int(input())\n",
    "k = []\n",
    "for i in range(m, n+1):        \n",
    "    a = True\n",
    "    for j in range(2, int(i**0.5)+1):\n",
    "        if i%j==0:\n",
    "            a = False\n",
    "    if a == True:\n",
    "        if i != 1:\n",
    "            k.append(i)\n",
    "if len(k) == 0:\n",
    "    print(-1)\n",
    "else:\n",
    "    print(sum(k))\n",
    "    print(min(k))\n"
   ]
  },
  {
   "cell_type": "code",
   "execution_count": 66,
   "metadata": {},
   "outputs": [
    {
     "name": "stdout",
     "output_type": "stream",
     "text": [
      "97\n",
      "103\n"
     ]
    }
   ],
   "source": [
    "# 11653\n",
    "n = int(input())\n",
    "a = []\n",
    "i = 2\n",
    "while i <= n:\n",
    "    if n % i == 0:\n",
    "        a.append(i)\n",
    "        n = n / i\n",
    "    else:\n",
    "        i = i+1\n",
    "print(\"\\n\".join(map(str,a)))"
   ]
  },
  {
   "cell_type": "code",
   "execution_count": null,
   "metadata": {},
   "outputs": [],
   "source": []
  }
 ],
 "metadata": {
  "kernelspec": {
   "display_name": "assignment1",
   "language": "python",
   "name": "python3"
  },
  "language_info": {
   "codemirror_mode": {
    "name": "ipython",
    "version": 3
   },
   "file_extension": ".py",
   "mimetype": "text/x-python",
   "name": "python",
   "nbconvert_exporter": "python",
   "pygments_lexer": "ipython3",
   "version": "3.9.19"
  }
 },
 "nbformat": 4,
 "nbformat_minor": 2
}
