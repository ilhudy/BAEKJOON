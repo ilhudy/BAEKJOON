{
 "cells": [
  {
   "cell_type": "code",
   "execution_count": 1,
   "metadata": {},
   "outputs": [
    {
     "name": "stdout",
     "output_type": "stream",
     "text": [
      "3\n"
     ]
    }
   ],
   "source": [
    "# 10807\n",
    "n = int(input())\n",
    "a = list(map(int, input().split()))\n",
    "v = int(input())\n",
    "cnt = 0\n",
    "for i in range(len(a)):\n",
    "    if a[i] == v:\n",
    "        cnt += 1\n",
    "print(cnt)"
   ]
  },
  {
   "cell_type": "code",
   "execution_count": 4,
   "metadata": {},
   "outputs": [
    {
     "name": "stdout",
     "output_type": "stream",
     "text": [
      "1 4 2 3 "
     ]
    }
   ],
   "source": [
    "# 10871\n",
    "n, x = map(int, input().split())\n",
    "a = list(map(int, input().split()))\n",
    "for i in range(n):\n",
    "    if a[i] < x:\n",
    "        print(a[i], end=' ')"
   ]
  },
  {
   "cell_type": "code",
   "execution_count": 8,
   "metadata": {},
   "outputs": [
    {
     "name": "stdout",
     "output_type": "stream",
     "text": [
      "7 35 "
     ]
    }
   ],
   "source": [
    "# 10818\n",
    "n = int(input())\n",
    "a = list(map(int, input().split()))\n",
    "print(min(a), max(a), end=' ')"
   ]
  },
  {
   "cell_type": "code",
   "execution_count": 13,
   "metadata": {},
   "outputs": [
    {
     "name": "stdout",
     "output_type": "stream",
     "text": [
      "85\n",
      "8\n"
     ]
    }
   ],
   "source": [
    "# 2562\n",
    "k = []\n",
    "for i in range(9):\n",
    "    n = int(input())\n",
    "    k.append(n)\n",
    "a = max(k)\n",
    "print(a)\n",
    "for i in range(9):\n",
    "    if a == k[i]:\n",
    "        print(i+1)"
   ]
  },
  {
   "cell_type": "code",
   "execution_count": 21,
   "metadata": {},
   "outputs": [
    {
     "name": "stdout",
     "output_type": "stream",
     "text": [
      "1 2 1 1 0 "
     ]
    }
   ],
   "source": [
    "# 10810\n",
    "n, m = map(int, input().split())\n",
    "K = [0]*n\n",
    "for a in range(m):\n",
    "    i, j, k = map(int, input().split())\n",
    "    if n >= k >= 1:\n",
    "        for b in range(i-1, j):\n",
    "            K[b] = k\n",
    "for q in range(n):\n",
    "    print(K[q], end=' ')\n"
   ]
  },
  {
   "cell_type": "code",
   "execution_count": 27,
   "metadata": {},
   "outputs": [
    {
     "name": "stdout",
     "output_type": "stream",
     "text": [
      "3 1 4 2 5 "
     ]
    }
   ],
   "source": [
    "# 10813\n",
    "n, m = map(int, input().split())\n",
    "k = [0]*n\n",
    "for a in range(n):\n",
    "    k[a] = a + 1\n",
    "for a in range(m):\n",
    "    i, j = map(int, input().split())\n",
    "    c = k[i-1]\n",
    "    k[i-1] = k[j-1]\n",
    "    k[j-1] = c\n",
    "for q in range(n):\n",
    "    print(k[q], end=' ')\n"
   ]
  },
  {
   "cell_type": "code",
   "execution_count": 29,
   "metadata": {},
   "outputs": [
    {
     "name": "stdout",
     "output_type": "stream",
     "text": [
      "2\n",
      "8\n"
     ]
    }
   ],
   "source": [
    "# 5597\n",
    "k = [0] * 30\n",
    "kk = []\n",
    "for i in range(28):\n",
    "    a = int(input())\n",
    "    k[a-1] = a\n",
    "for b in range(30):\n",
    "    if k[b] == 0:\n",
    "        kk.append(b+1)\n",
    "print(min(kk))\n",
    "print(max(kk))"
   ]
  },
  {
   "cell_type": "code",
   "execution_count": 35,
   "metadata": {},
   "outputs": [
    {
     "name": "stdout",
     "output_type": "stream",
     "text": [
      "10\n"
     ]
    }
   ],
   "source": [
    "# 3052\n",
    "k = []\n",
    "for i in range(10):\n",
    "    a = int(input())\n",
    "    b = a % 42\n",
    "    k.append(b)\n",
    "print(len(set(k)))\n",
    "    "
   ]
  },
  {
   "cell_type": "code",
   "execution_count": 36,
   "metadata": {},
   "outputs": [
    {
     "name": "stdout",
     "output_type": "stream",
     "text": [
      "3 4 1 2 5 "
     ]
    }
   ],
   "source": [
    "# 10811\n",
    "n, m = map(int, input().split())\n",
    "k =[0]*n\n",
    "for a in range(n):\n",
    "    k[a] = a + 1\n",
    "for a in range(m):\n",
    "    i, j = map(int, input().split())\n",
    "    k[i-1:j] = k[i-1:j][::-1]\n",
    "for i in range(n):\n",
    "    print(k[i], end=' ')"
   ]
  },
  {
   "cell_type": "code",
   "execution_count": 42,
   "metadata": {},
   "outputs": [
    {
     "name": "stdout",
     "output_type": "stream",
     "text": [
      "80\n",
      "[50.0, 100.0, 75.0]\n",
      "75.0\n"
     ]
    }
   ],
   "source": [
    "# 1546\n",
    "n = int(input())\n",
    "a = list(map(int, input().split()))\n",
    "b = max(a)\n",
    "for i in range(n):\n",
    "    a[i] = a[i]/b*100\n",
    "print(sum(a)/n)"
   ]
  },
  {
   "cell_type": "code",
   "execution_count": null,
   "metadata": {},
   "outputs": [],
   "source": []
  }
 ],
 "metadata": {
  "kernelspec": {
   "display_name": "assignment1",
   "language": "python",
   "name": "python3"
  },
  "language_info": {
   "codemirror_mode": {
    "name": "ipython",
    "version": 3
   },
   "file_extension": ".py",
   "mimetype": "text/x-python",
   "name": "python",
   "nbconvert_exporter": "python",
   "pygments_lexer": "ipython3",
   "version": "3.9.19"
  }
 },
 "nbformat": 4,
 "nbformat_minor": 2
}
